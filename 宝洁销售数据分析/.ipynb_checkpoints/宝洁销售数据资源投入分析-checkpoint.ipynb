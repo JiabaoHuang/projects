{
 "cells": [
  {
   "cell_type": "markdown",
   "metadata": {},
   "source": [
    "# 数据导出与简单清理"
   ]
  },
  {
   "cell_type": "code",
   "execution_count": 1,
   "metadata": {},
   "outputs": [],
   "source": [
    "import pandas as pd\n",
    "from sklearn.datasets import load_boston\n",
    "from sklearn.model_selection import train_test_split\n",
    "import numpy as np"
   ]
  },
  {
   "cell_type": "code",
   "execution_count": 2,
   "metadata": {},
   "outputs": [
    {
     "data": {
      "text/html": [
       "<div>\n",
       "<style scoped>\n",
       "    .dataframe tbody tr th:only-of-type {\n",
       "        vertical-align: middle;\n",
       "    }\n",
       "\n",
       "    .dataframe tbody tr th {\n",
       "        vertical-align: top;\n",
       "    }\n",
       "\n",
       "    .dataframe thead th {\n",
       "        text-align: right;\n",
       "    }\n",
       "</style>\n",
       "<table border=\"1\" class=\"dataframe\">\n",
       "  <thead>\n",
       "    <tr style=\"text-align: right;\">\n",
       "      <th></th>\n",
       "      <th>Unnamed: 0</th>\n",
       "      <th>revenue</th>\n",
       "      <th>reach</th>\n",
       "      <th>local_tv</th>\n",
       "      <th>online</th>\n",
       "      <th>instore</th>\n",
       "      <th>person</th>\n",
       "      <th>event</th>\n",
       "    </tr>\n",
       "  </thead>\n",
       "  <tbody>\n",
       "    <tr>\n",
       "      <th>0</th>\n",
       "      <td>845</td>\n",
       "      <td>45860.28</td>\n",
       "      <td>2</td>\n",
       "      <td>31694.91</td>\n",
       "      <td>2115</td>\n",
       "      <td>3296</td>\n",
       "      <td>8</td>\n",
       "      <td>non_event</td>\n",
       "    </tr>\n",
       "    <tr>\n",
       "      <th>1</th>\n",
       "      <td>483</td>\n",
       "      <td>63588.23</td>\n",
       "      <td>2</td>\n",
       "      <td>35040.17</td>\n",
       "      <td>1826</td>\n",
       "      <td>2501</td>\n",
       "      <td>14</td>\n",
       "      <td>special</td>\n",
       "    </tr>\n",
       "    <tr>\n",
       "      <th>2</th>\n",
       "      <td>513</td>\n",
       "      <td>23272.69</td>\n",
       "      <td>4</td>\n",
       "      <td>30992.82</td>\n",
       "      <td>1851</td>\n",
       "      <td>2524</td>\n",
       "      <td>6</td>\n",
       "      <td>special</td>\n",
       "    </tr>\n",
       "    <tr>\n",
       "      <th>3</th>\n",
       "      <td>599</td>\n",
       "      <td>45911.23</td>\n",
       "      <td>2</td>\n",
       "      <td>29417.78</td>\n",
       "      <td>2437</td>\n",
       "      <td>3049</td>\n",
       "      <td>12</td>\n",
       "      <td>special</td>\n",
       "    </tr>\n",
       "    <tr>\n",
       "      <th>4</th>\n",
       "      <td>120</td>\n",
       "      <td>36644.23</td>\n",
       "      <td>2</td>\n",
       "      <td>35611.11</td>\n",
       "      <td>1122</td>\n",
       "      <td>1142</td>\n",
       "      <td>13</td>\n",
       "      <td>cobranding</td>\n",
       "    </tr>\n",
       "  </tbody>\n",
       "</table>\n",
       "</div>"
      ],
      "text/plain": [
       "   Unnamed: 0   revenue  reach  local_tv  online  instore  person       event\n",
       "0         845  45860.28      2  31694.91    2115     3296       8   non_event\n",
       "1         483  63588.23      2  35040.17    1826     2501      14     special\n",
       "2         513  23272.69      4  30992.82    1851     2524       6     special\n",
       "3         599  45911.23      2  29417.78    2437     3049      12     special\n",
       "4         120  36644.23      2  35611.11    1122     1142      13  cobranding"
      ]
     },
     "execution_count": 2,
     "metadata": {},
     "output_type": "execute_result"
    }
   ],
   "source": [
    "X = pd.read_csv(r'/Users/jiabaohuang/宝洁销售数据分析/baojie.csv')\n",
    "# X = X.dropna()\n",
    "X.head()"
   ]
  },
  {
   "cell_type": "code",
   "execution_count": 3,
   "metadata": {},
   "outputs": [
    {
     "data": {
      "text/plain": [
       "(985, 8)"
      ]
     },
     "execution_count": 3,
     "metadata": {},
     "output_type": "execute_result"
    }
   ],
   "source": [
    "X.shape"
   ]
  },
  {
   "cell_type": "code",
   "execution_count": 4,
   "metadata": {
    "scrolled": true
   },
   "outputs": [
    {
     "data": {
      "text/plain": [
       "Unnamed: 0     0\n",
       "revenue        0\n",
       "reach          0\n",
       "local_tv      56\n",
       "online         0\n",
       "instore        0\n",
       "person         0\n",
       "event          0\n",
       "dtype: int64"
      ]
     },
     "execution_count": 4,
     "metadata": {},
     "output_type": "execute_result"
    }
   ],
   "source": [
    "X.isna().sum()"
   ]
  },
  {
   "cell_type": "code",
   "execution_count": 5,
   "metadata": {},
   "outputs": [
    {
     "data": {
      "text/plain": [
       "Index(['Unnamed: 0', 'revenue', 'reach', 'local_tv', 'online', 'instore',\n",
       "       'person', 'event'],\n",
       "      dtype='object')"
      ]
     },
     "execution_count": 5,
     "metadata": {},
     "output_type": "execute_result"
    }
   ],
   "source": [
    "columns_ = X.columns\n",
    "columns_"
   ]
  },
  {
   "cell_type": "code",
   "execution_count": 6,
   "metadata": {},
   "outputs": [],
   "source": [
    "X.dropna(inplace=True)"
   ]
  },
  {
   "cell_type": "code",
   "execution_count": 7,
   "metadata": {},
   "outputs": [],
   "source": [
    "X = np.nan_to_num(X)\n",
    "# 将无穷大变为可表示的有限数字？？"
   ]
  },
  {
   "cell_type": "code",
   "execution_count": 8,
   "metadata": {},
   "outputs": [
    {
     "data": {
      "text/plain": [
       "(929, 8)"
      ]
     },
     "execution_count": 8,
     "metadata": {},
     "output_type": "execute_result"
    }
   ],
   "source": [
    "X.shape"
   ]
  },
  {
   "cell_type": "code",
   "execution_count": 9,
   "metadata": {},
   "outputs": [],
   "source": [
    "X = pd.DataFrame(data=X, columns=columns_)"
   ]
  },
  {
   "cell_type": "code",
   "execution_count": 10,
   "metadata": {},
   "outputs": [
    {
     "data": {
      "text/html": [
       "<div>\n",
       "<style scoped>\n",
       "    .dataframe tbody tr th:only-of-type {\n",
       "        vertical-align: middle;\n",
       "    }\n",
       "\n",
       "    .dataframe tbody tr th {\n",
       "        vertical-align: top;\n",
       "    }\n",
       "\n",
       "    .dataframe thead th {\n",
       "        text-align: right;\n",
       "    }\n",
       "</style>\n",
       "<table border=\"1\" class=\"dataframe\">\n",
       "  <thead>\n",
       "    <tr style=\"text-align: right;\">\n",
       "      <th></th>\n",
       "      <th>Unnamed: 0</th>\n",
       "      <th>revenue</th>\n",
       "      <th>reach</th>\n",
       "      <th>local_tv</th>\n",
       "      <th>online</th>\n",
       "      <th>instore</th>\n",
       "      <th>person</th>\n",
       "      <th>event</th>\n",
       "    </tr>\n",
       "  </thead>\n",
       "  <tbody>\n",
       "    <tr>\n",
       "      <th>0</th>\n",
       "      <td>845</td>\n",
       "      <td>45860.3</td>\n",
       "      <td>2</td>\n",
       "      <td>31694.9</td>\n",
       "      <td>2115</td>\n",
       "      <td>3296</td>\n",
       "      <td>8</td>\n",
       "      <td>non_event</td>\n",
       "    </tr>\n",
       "    <tr>\n",
       "      <th>1</th>\n",
       "      <td>483</td>\n",
       "      <td>63588.2</td>\n",
       "      <td>2</td>\n",
       "      <td>35040.2</td>\n",
       "      <td>1826</td>\n",
       "      <td>2501</td>\n",
       "      <td>14</td>\n",
       "      <td>special</td>\n",
       "    </tr>\n",
       "    <tr>\n",
       "      <th>2</th>\n",
       "      <td>513</td>\n",
       "      <td>23272.7</td>\n",
       "      <td>4</td>\n",
       "      <td>30992.8</td>\n",
       "      <td>1851</td>\n",
       "      <td>2524</td>\n",
       "      <td>6</td>\n",
       "      <td>special</td>\n",
       "    </tr>\n",
       "    <tr>\n",
       "      <th>3</th>\n",
       "      <td>599</td>\n",
       "      <td>45911.2</td>\n",
       "      <td>2</td>\n",
       "      <td>29417.8</td>\n",
       "      <td>2437</td>\n",
       "      <td>3049</td>\n",
       "      <td>12</td>\n",
       "      <td>special</td>\n",
       "    </tr>\n",
       "    <tr>\n",
       "      <th>4</th>\n",
       "      <td>120</td>\n",
       "      <td>36644.2</td>\n",
       "      <td>2</td>\n",
       "      <td>35611.1</td>\n",
       "      <td>1122</td>\n",
       "      <td>1142</td>\n",
       "      <td>13</td>\n",
       "      <td>cobranding</td>\n",
       "    </tr>\n",
       "    <tr>\n",
       "      <th>5</th>\n",
       "      <td>867</td>\n",
       "      <td>36172.8</td>\n",
       "      <td>4</td>\n",
       "      <td>22372.6</td>\n",
       "      <td>2001</td>\n",
       "      <td>1881</td>\n",
       "      <td>17</td>\n",
       "      <td>cobranding</td>\n",
       "    </tr>\n",
       "    <tr>\n",
       "      <th>6</th>\n",
       "      <td>847</td>\n",
       "      <td>43797</td>\n",
       "      <td>3</td>\n",
       "      <td>31443.7</td>\n",
       "      <td>1667</td>\n",
       "      <td>1846</td>\n",
       "      <td>15</td>\n",
       "      <td>cobranding</td>\n",
       "    </tr>\n",
       "    <tr>\n",
       "      <th>7</th>\n",
       "      <td>950</td>\n",
       "      <td>41629.8</td>\n",
       "      <td>4</td>\n",
       "      <td>35775.8</td>\n",
       "      <td>1155</td>\n",
       "      <td>2715</td>\n",
       "      <td>12</td>\n",
       "      <td>special</td>\n",
       "    </tr>\n",
       "    <tr>\n",
       "      <th>8</th>\n",
       "      <td>942</td>\n",
       "      <td>21303.5</td>\n",
       "      <td>2</td>\n",
       "      <td>24888.3</td>\n",
       "      <td>1853</td>\n",
       "      <td>3677</td>\n",
       "      <td>4</td>\n",
       "      <td>non_event</td>\n",
       "    </tr>\n",
       "    <tr>\n",
       "      <th>9</th>\n",
       "      <td>550</td>\n",
       "      <td>20746.2</td>\n",
       "      <td>4</td>\n",
       "      <td>26623.5</td>\n",
       "      <td>1497</td>\n",
       "      <td>3075</td>\n",
       "      <td>9</td>\n",
       "      <td>holiday</td>\n",
       "    </tr>\n",
       "  </tbody>\n",
       "</table>\n",
       "</div>"
      ],
      "text/plain": [
       "  Unnamed: 0  revenue reach local_tv online instore person       event\n",
       "0        845  45860.3     2  31694.9   2115    3296      8   non_event\n",
       "1        483  63588.2     2  35040.2   1826    2501     14     special\n",
       "2        513  23272.7     4  30992.8   1851    2524      6     special\n",
       "3        599  45911.2     2  29417.8   2437    3049     12     special\n",
       "4        120  36644.2     2  35611.1   1122    1142     13  cobranding\n",
       "5        867  36172.8     4  22372.6   2001    1881     17  cobranding\n",
       "6        847    43797     3  31443.7   1667    1846     15  cobranding\n",
       "7        950  41629.8     4  35775.8   1155    2715     12     special\n",
       "8        942  21303.5     2  24888.3   1853    3677      4   non_event\n",
       "9        550  20746.2     4  26623.5   1497    3075      9     holiday"
      ]
     },
     "execution_count": 10,
     "metadata": {},
     "output_type": "execute_result"
    }
   ],
   "source": [
    "X.head(10)"
   ]
  },
  {
   "cell_type": "code",
   "execution_count": 11,
   "metadata": {},
   "outputs": [],
   "source": [
    "X.drop(labels='Unnamed: 0',axis=1, inplace=True)"
   ]
  },
  {
   "cell_type": "code",
   "execution_count": 12,
   "metadata": {},
   "outputs": [],
   "source": [
    "y = X.revenue\n",
    "X.drop(labels='revenue', axis=1, inplace=True)\n",
    "np.random.seed(seed=42)"
   ]
  },
  {
   "cell_type": "markdown",
   "metadata": {},
   "source": [
    "## 将event列编码"
   ]
  },
  {
   "cell_type": "code",
   "execution_count": 13,
   "metadata": {},
   "outputs": [
    {
     "data": {
      "text/html": [
       "<div>\n",
       "<style scoped>\n",
       "    .dataframe tbody tr th:only-of-type {\n",
       "        vertical-align: middle;\n",
       "    }\n",
       "\n",
       "    .dataframe tbody tr th {\n",
       "        vertical-align: top;\n",
       "    }\n",
       "\n",
       "    .dataframe thead th {\n",
       "        text-align: right;\n",
       "    }\n",
       "</style>\n",
       "<table border=\"1\" class=\"dataframe\">\n",
       "  <thead>\n",
       "    <tr style=\"text-align: right;\">\n",
       "      <th></th>\n",
       "      <th>reach</th>\n",
       "      <th>local_tv</th>\n",
       "      <th>online</th>\n",
       "      <th>instore</th>\n",
       "      <th>person</th>\n",
       "      <th>event</th>\n",
       "    </tr>\n",
       "  </thead>\n",
       "  <tbody>\n",
       "    <tr>\n",
       "      <th>0</th>\n",
       "      <td>2</td>\n",
       "      <td>31694.9</td>\n",
       "      <td>2115</td>\n",
       "      <td>3296</td>\n",
       "      <td>8</td>\n",
       "      <td>2</td>\n",
       "    </tr>\n",
       "    <tr>\n",
       "      <th>1</th>\n",
       "      <td>2</td>\n",
       "      <td>35040.2</td>\n",
       "      <td>1826</td>\n",
       "      <td>2501</td>\n",
       "      <td>14</td>\n",
       "      <td>3</td>\n",
       "    </tr>\n",
       "    <tr>\n",
       "      <th>2</th>\n",
       "      <td>4</td>\n",
       "      <td>30992.8</td>\n",
       "      <td>1851</td>\n",
       "      <td>2524</td>\n",
       "      <td>6</td>\n",
       "      <td>3</td>\n",
       "    </tr>\n",
       "    <tr>\n",
       "      <th>3</th>\n",
       "      <td>2</td>\n",
       "      <td>29417.8</td>\n",
       "      <td>2437</td>\n",
       "      <td>3049</td>\n",
       "      <td>12</td>\n",
       "      <td>3</td>\n",
       "    </tr>\n",
       "    <tr>\n",
       "      <th>4</th>\n",
       "      <td>2</td>\n",
       "      <td>35611.1</td>\n",
       "      <td>1122</td>\n",
       "      <td>1142</td>\n",
       "      <td>13</td>\n",
       "      <td>0</td>\n",
       "    </tr>\n",
       "    <tr>\n",
       "      <th>5</th>\n",
       "      <td>4</td>\n",
       "      <td>22372.6</td>\n",
       "      <td>2001</td>\n",
       "      <td>1881</td>\n",
       "      <td>17</td>\n",
       "      <td>0</td>\n",
       "    </tr>\n",
       "    <tr>\n",
       "      <th>6</th>\n",
       "      <td>3</td>\n",
       "      <td>31443.7</td>\n",
       "      <td>1667</td>\n",
       "      <td>1846</td>\n",
       "      <td>15</td>\n",
       "      <td>0</td>\n",
       "    </tr>\n",
       "    <tr>\n",
       "      <th>7</th>\n",
       "      <td>4</td>\n",
       "      <td>35775.8</td>\n",
       "      <td>1155</td>\n",
       "      <td>2715</td>\n",
       "      <td>12</td>\n",
       "      <td>3</td>\n",
       "    </tr>\n",
       "    <tr>\n",
       "      <th>8</th>\n",
       "      <td>2</td>\n",
       "      <td>24888.3</td>\n",
       "      <td>1853</td>\n",
       "      <td>3677</td>\n",
       "      <td>4</td>\n",
       "      <td>2</td>\n",
       "    </tr>\n",
       "    <tr>\n",
       "      <th>9</th>\n",
       "      <td>4</td>\n",
       "      <td>26623.5</td>\n",
       "      <td>1497</td>\n",
       "      <td>3075</td>\n",
       "      <td>9</td>\n",
       "      <td>1</td>\n",
       "    </tr>\n",
       "  </tbody>\n",
       "</table>\n",
       "</div>"
      ],
      "text/plain": [
       "  reach local_tv online instore person  event\n",
       "0     2  31694.9   2115    3296      8      2\n",
       "1     2  35040.2   1826    2501     14      3\n",
       "2     4  30992.8   1851    2524      6      3\n",
       "3     2  29417.8   2437    3049     12      3\n",
       "4     2  35611.1   1122    1142     13      0\n",
       "5     4  22372.6   2001    1881     17      0\n",
       "6     3  31443.7   1667    1846     15      0\n",
       "7     4  35775.8   1155    2715     12      3\n",
       "8     2  24888.3   1853    3677      4      2\n",
       "9     4  26623.5   1497    3075      9      1"
      ]
     },
     "execution_count": 13,
     "metadata": {},
     "output_type": "execute_result"
    }
   ],
   "source": [
    "from sklearn import preprocessing\n",
    "le = preprocessing.LabelEncoder()\n",
    "X['event'] = le.fit_transform(X['event'])\n",
    "X.head(10)"
   ]
  },
  {
   "cell_type": "code",
   "execution_count": 14,
   "metadata": {},
   "outputs": [
    {
     "data": {
      "text/plain": [
       "(929, 6)"
      ]
     },
     "execution_count": 14,
     "metadata": {},
     "output_type": "execute_result"
    }
   ],
   "source": [
    "X.shape"
   ]
  },
  {
   "cell_type": "markdown",
   "metadata": {},
   "source": [
    "## 拆分数据集为训练集测试集"
   ]
  },
  {
   "cell_type": "code",
   "execution_count": 15,
   "metadata": {},
   "outputs": [],
   "source": [
    "X['random'] = np.random.random(len(X))\n",
    "X_train, X_valid, y_train, y_valid = train_test_split(X, y, test_size=.2, random_state=42)"
   ]
  },
  {
   "cell_type": "code",
   "execution_count": 16,
   "metadata": {
    "scrolled": true
   },
   "outputs": [
    {
     "data": {
      "text/html": [
       "<div>\n",
       "<style scoped>\n",
       "    .dataframe tbody tr th:only-of-type {\n",
       "        vertical-align: middle;\n",
       "    }\n",
       "\n",
       "    .dataframe tbody tr th {\n",
       "        vertical-align: top;\n",
       "    }\n",
       "\n",
       "    .dataframe thead th {\n",
       "        text-align: right;\n",
       "    }\n",
       "</style>\n",
       "<table border=\"1\" class=\"dataframe\">\n",
       "  <thead>\n",
       "    <tr style=\"text-align: right;\">\n",
       "      <th></th>\n",
       "      <th>reach</th>\n",
       "      <th>local_tv</th>\n",
       "      <th>online</th>\n",
       "      <th>instore</th>\n",
       "      <th>person</th>\n",
       "      <th>event</th>\n",
       "      <th>random</th>\n",
       "    </tr>\n",
       "  </thead>\n",
       "  <tbody>\n",
       "    <tr>\n",
       "      <th>0</th>\n",
       "      <td>2</td>\n",
       "      <td>31694.9</td>\n",
       "      <td>2115</td>\n",
       "      <td>3296</td>\n",
       "      <td>8</td>\n",
       "      <td>2</td>\n",
       "      <td>0.374540</td>\n",
       "    </tr>\n",
       "    <tr>\n",
       "      <th>1</th>\n",
       "      <td>2</td>\n",
       "      <td>35040.2</td>\n",
       "      <td>1826</td>\n",
       "      <td>2501</td>\n",
       "      <td>14</td>\n",
       "      <td>3</td>\n",
       "      <td>0.950714</td>\n",
       "    </tr>\n",
       "    <tr>\n",
       "      <th>2</th>\n",
       "      <td>4</td>\n",
       "      <td>30992.8</td>\n",
       "      <td>1851</td>\n",
       "      <td>2524</td>\n",
       "      <td>6</td>\n",
       "      <td>3</td>\n",
       "      <td>0.731994</td>\n",
       "    </tr>\n",
       "    <tr>\n",
       "      <th>3</th>\n",
       "      <td>2</td>\n",
       "      <td>29417.8</td>\n",
       "      <td>2437</td>\n",
       "      <td>3049</td>\n",
       "      <td>12</td>\n",
       "      <td>3</td>\n",
       "      <td>0.598658</td>\n",
       "    </tr>\n",
       "    <tr>\n",
       "      <th>4</th>\n",
       "      <td>2</td>\n",
       "      <td>35611.1</td>\n",
       "      <td>1122</td>\n",
       "      <td>1142</td>\n",
       "      <td>13</td>\n",
       "      <td>0</td>\n",
       "      <td>0.156019</td>\n",
       "    </tr>\n",
       "  </tbody>\n",
       "</table>\n",
       "</div>"
      ],
      "text/plain": [
       "  reach local_tv online instore person  event    random\n",
       "0     2  31694.9   2115    3296      8      2  0.374540\n",
       "1     2  35040.2   1826    2501     14      3  0.950714\n",
       "2     4  30992.8   1851    2524      6      3  0.731994\n",
       "3     2  29417.8   2437    3049     12      3  0.598658\n",
       "4     2  35611.1   1122    1142     13      0  0.156019"
      ]
     },
     "execution_count": 16,
     "metadata": {},
     "output_type": "execute_result"
    }
   ],
   "source": [
    "X.head()"
   ]
  },
  {
   "cell_type": "markdown",
   "metadata": {},
   "source": [
    "## 验证变量之间相关性"
   ]
  },
  {
   "cell_type": "code",
   "execution_count": 17,
   "metadata": {
    "scrolled": false
   },
   "outputs": [
    {
     "name": "stdout",
     "output_type": "stream",
     "text": [
      "<class 'pandas.core.frame.DataFrame'>\n",
      "RangeIndex: 929 entries, 0 to 928\n",
      "Data columns (total 7 columns):\n",
      " #   Column    Non-Null Count  Dtype  \n",
      "---  ------    --------------  -----  \n",
      " 0   reach     929 non-null    object \n",
      " 1   local_tv  929 non-null    object \n",
      " 2   online    929 non-null    object \n",
      " 3   instore   929 non-null    object \n",
      " 4   person    929 non-null    object \n",
      " 5   event     929 non-null    int64  \n",
      " 6   random    929 non-null    float64\n",
      "dtypes: float64(1), int64(1), object(5)\n",
      "memory usage: 50.9+ KB\n"
     ]
    }
   ],
   "source": [
    "X.info()"
   ]
  },
  {
   "cell_type": "code",
   "execution_count": 18,
   "metadata": {},
   "outputs": [],
   "source": [
    "# 需要将object对象变为数字（float）\n",
    "params = ['reach', 'online', 'instore', 'person']\n",
    "X['local_tv'] = X['local_tv'].astype(float)\n",
    "X[params] = X[params].astype(int)"
   ]
  },
  {
   "cell_type": "code",
   "execution_count": 19,
   "metadata": {
    "scrolled": true
   },
   "outputs": [
    {
     "name": "stdout",
     "output_type": "stream",
     "text": [
      "<class 'pandas.core.frame.DataFrame'>\n",
      "RangeIndex: 929 entries, 0 to 928\n",
      "Data columns (total 7 columns):\n",
      " #   Column    Non-Null Count  Dtype  \n",
      "---  ------    --------------  -----  \n",
      " 0   reach     929 non-null    int64  \n",
      " 1   local_tv  929 non-null    float64\n",
      " 2   online    929 non-null    int64  \n",
      " 3   instore   929 non-null    int64  \n",
      " 4   person    929 non-null    int64  \n",
      " 5   event     929 non-null    int64  \n",
      " 6   random    929 non-null    float64\n",
      "dtypes: float64(2), int64(5)\n",
      "memory usage: 50.9 KB\n"
     ]
    }
   ],
   "source": [
    "X.info()"
   ]
  },
  {
   "cell_type": "code",
   "execution_count": 20,
   "metadata": {},
   "outputs": [
    {
     "data": {
      "text/html": [
       "<div>\n",
       "<style scoped>\n",
       "    .dataframe tbody tr th:only-of-type {\n",
       "        vertical-align: middle;\n",
       "    }\n",
       "\n",
       "    .dataframe tbody tr th {\n",
       "        vertical-align: top;\n",
       "    }\n",
       "\n",
       "    .dataframe thead th {\n",
       "        text-align: right;\n",
       "    }\n",
       "</style>\n",
       "<table border=\"1\" class=\"dataframe\">\n",
       "  <thead>\n",
       "    <tr style=\"text-align: right;\">\n",
       "      <th></th>\n",
       "      <th>reach</th>\n",
       "      <th>local_tv</th>\n",
       "      <th>online</th>\n",
       "      <th>instore</th>\n",
       "      <th>person</th>\n",
       "      <th>event</th>\n",
       "      <th>random</th>\n",
       "    </tr>\n",
       "  </thead>\n",
       "  <tbody>\n",
       "    <tr>\n",
       "      <th>reach</th>\n",
       "      <td>1.000000</td>\n",
       "      <td>-0.034039</td>\n",
       "      <td>-0.033271</td>\n",
       "      <td>0.036588</td>\n",
       "      <td>0.057563</td>\n",
       "      <td>-0.053955</td>\n",
       "      <td>-0.041974</td>\n",
       "    </tr>\n",
       "    <tr>\n",
       "      <th>local_tv</th>\n",
       "      <td>-0.034039</td>\n",
       "      <td>1.000000</td>\n",
       "      <td>0.006775</td>\n",
       "      <td>-0.046825</td>\n",
       "      <td>0.048664</td>\n",
       "      <td>-0.008686</td>\n",
       "      <td>0.056222</td>\n",
       "    </tr>\n",
       "    <tr>\n",
       "      <th>online</th>\n",
       "      <td>-0.033271</td>\n",
       "      <td>0.006775</td>\n",
       "      <td>1.000000</td>\n",
       "      <td>-0.020198</td>\n",
       "      <td>0.035069</td>\n",
       "      <td>0.046553</td>\n",
       "      <td>0.035872</td>\n",
       "    </tr>\n",
       "    <tr>\n",
       "      <th>instore</th>\n",
       "      <td>0.036588</td>\n",
       "      <td>-0.046825</td>\n",
       "      <td>-0.020198</td>\n",
       "      <td>1.000000</td>\n",
       "      <td>-0.008875</td>\n",
       "      <td>0.040605</td>\n",
       "      <td>-0.028252</td>\n",
       "    </tr>\n",
       "    <tr>\n",
       "      <th>person</th>\n",
       "      <td>0.057563</td>\n",
       "      <td>0.048664</td>\n",
       "      <td>0.035069</td>\n",
       "      <td>-0.008875</td>\n",
       "      <td>1.000000</td>\n",
       "      <td>0.022575</td>\n",
       "      <td>-0.005444</td>\n",
       "    </tr>\n",
       "    <tr>\n",
       "      <th>event</th>\n",
       "      <td>-0.053955</td>\n",
       "      <td>-0.008686</td>\n",
       "      <td>0.046553</td>\n",
       "      <td>0.040605</td>\n",
       "      <td>0.022575</td>\n",
       "      <td>1.000000</td>\n",
       "      <td>-0.022129</td>\n",
       "    </tr>\n",
       "    <tr>\n",
       "      <th>random</th>\n",
       "      <td>-0.041974</td>\n",
       "      <td>0.056222</td>\n",
       "      <td>0.035872</td>\n",
       "      <td>-0.028252</td>\n",
       "      <td>-0.005444</td>\n",
       "      <td>-0.022129</td>\n",
       "      <td>1.000000</td>\n",
       "    </tr>\n",
       "  </tbody>\n",
       "</table>\n",
       "</div>"
      ],
      "text/plain": [
       "             reach  local_tv    online   instore    person     event    random\n",
       "reach     1.000000 -0.034039 -0.033271  0.036588  0.057563 -0.053955 -0.041974\n",
       "local_tv -0.034039  1.000000  0.006775 -0.046825  0.048664 -0.008686  0.056222\n",
       "online   -0.033271  0.006775  1.000000 -0.020198  0.035069  0.046553  0.035872\n",
       "instore   0.036588 -0.046825 -0.020198  1.000000 -0.008875  0.040605 -0.028252\n",
       "person    0.057563  0.048664  0.035069 -0.008875  1.000000  0.022575 -0.005444\n",
       "event    -0.053955 -0.008686  0.046553  0.040605  0.022575  1.000000 -0.022129\n",
       "random   -0.041974  0.056222  0.035872 -0.028252 -0.005444 -0.022129  1.000000"
      ]
     },
     "execution_count": 20,
     "metadata": {},
     "output_type": "execute_result"
    }
   ],
   "source": [
    "corrMatrix = X.corr()\n",
    "corrMatrix"
   ]
  },
  {
   "cell_type": "code",
   "execution_count": 21,
   "metadata": {},
   "outputs": [
    {
     "data": {
      "image/png": "[encoded data removed]",
      "text/plain": [
       "<Figure size 1152x360 with 2 Axes>"
      ]
     },
     "metadata": {
      "needs_background": "light"
     },
     "output_type": "display_data"
    }
   ],
   "source": [
    "# 画变量相关性热力图\n",
    "import seaborn as sns\n",
    "import matplotlib.pyplot as plt\n",
    "plt.figure(figsize=(16,5))\n",
    "sns.heatmap(corrMatrix, annot=True, cmap='GnBu')\n",
    "plt.show()"
   ]
  },
  {
   "cell_type": "markdown",
   "metadata": {},
   "source": [
    "从这幅correlation图中可以看出这个数据集没有明显的multicollinearity(即x变量们之间没有关系(<0.8))"
   ]
  },
  {
   "cell_type": "code",
   "execution_count": 22,
   "metadata": {},
   "outputs": [
    {
     "name": "stdout",
     "output_type": "stream",
     "text": [
      "R^2 Training Score: 0.96 \n",
      "OOB Score: 0.74 \n",
      "R^2 Validation Score: 0.69\n"
     ]
    }
   ],
   "source": [
    "# 随机森林回归预测\n",
    "from sklearn.ensemble import RandomForestRegressor\n",
    "\n",
    "rf = RandomForestRegressor(n_estimators=100, n_jobs=-1, oob_score=True, bootstrap=True, random_state=42)\n",
    "rf.fit(X_train, y_train)\n",
    "\n",
    "print('R^2 Training Score: %.2f \\nOOB Score: %.2f \\nR^2 Validation Score: %.2f'%(rf.score(X_train, y_train), rf.oob_score_, rf.score(X_valid, y_valid)))\n"
   ]
  },
  {
   "cell_type": "markdown",
   "metadata": {},
   "source": [
    "oob score指的是 out of bag score, 其实也就是由训练集(train/这里命名为valid)训练出来的模型用于预测测试集(test)的结果的准确性。\n",
    "从这里可以看出overfitting的问题出现了， 因为训练集的准确性很高但是测试集和validation的准确性却与之有明显差距"
   ]
  },
  {
   "cell_type": "markdown",
   "metadata": {},
   "source": [
    "# 变量按重要性排序\n",
    "## 1、先用rfpimp方法\n",
    "用rfpimp的优点是可以处理multicollinearity的问题"
   ]
  },
  {
   "cell_type": "code",
   "execution_count": 23,
   "metadata": {},
   "outputs": [
    {
     "name": "stderr",
     "output_type": "stream",
     "text": [
      "/Users/jiabaohuang/opt/anaconda3/lib/python3.8/site-packages/sklearn/utils/deprecation.py:143: FutureWarning: The sklearn.ensemble.forest module is  deprecated in version 0.22 and will be removed in version 0.24. The corresponding classes / functions should instead be imported from sklearn.ensemble. Anything that cannot be imported from sklearn.ensemble is now part of the private API.\n",
      "  warnings.warn(message, FutureWarning)\n"
     ]
    }
   ],
   "source": [
    "# 特征值对模型的重要性\n",
    "from sklearn.metrics import r2_score\n",
    "from rfpimp import permutation_importances\n",
    "\n",
    "def r2(rf, X_train, y_train):\n",
    "    return r2_score(y_train, rf.predict(X_train))\n",
    "\n",
    "perm_imp_rfpimp = permutation_importances(rf, X_train, y_train, r2)"
   ]
  },
  {
   "cell_type": "code",
   "execution_count": 24,
   "metadata": {
    "scrolled": true
   },
   "outputs": [
    {
     "data": {
      "text/html": [
       "<div>\n",
       "<style scoped>\n",
       "    .dataframe tbody tr th:only-of-type {\n",
       "        vertical-align: middle;\n",
       "    }\n",
       "\n",
       "    .dataframe tbody tr th {\n",
       "        vertical-align: top;\n",
       "    }\n",
       "\n",
       "    .dataframe thead th {\n",
       "        text-align: right;\n",
       "    }\n",
       "</style>\n",
       "<table border=\"1\" class=\"dataframe\">\n",
       "  <thead>\n",
       "    <tr style=\"text-align: right;\">\n",
       "      <th></th>\n",
       "      <th>Importance</th>\n",
       "    </tr>\n",
       "    <tr>\n",
       "      <th>Feature</th>\n",
       "      <th></th>\n",
       "    </tr>\n",
       "  </thead>\n",
       "  <tbody>\n",
       "    <tr>\n",
       "      <th>local_tv</th>\n",
       "      <td>0.803524</td>\n",
       "    </tr>\n",
       "    <tr>\n",
       "      <th>person</th>\n",
       "      <td>0.551853</td>\n",
       "    </tr>\n",
       "    <tr>\n",
       "      <th>instore</th>\n",
       "      <td>0.285223</td>\n",
       "    </tr>\n",
       "    <tr>\n",
       "      <th>online</th>\n",
       "      <td>0.058384</td>\n",
       "    </tr>\n",
       "    <tr>\n",
       "      <th>random</th>\n",
       "      <td>0.035301</td>\n",
       "    </tr>\n",
       "    <tr>\n",
       "      <th>reach</th>\n",
       "      <td>0.029567</td>\n",
       "    </tr>\n",
       "    <tr>\n",
       "      <th>event</th>\n",
       "      <td>0.012350</td>\n",
       "    </tr>\n",
       "  </tbody>\n",
       "</table>\n",
       "</div>"
      ],
      "text/plain": [
       "          Importance\n",
       "Feature             \n",
       "local_tv    0.803524\n",
       "person      0.551853\n",
       "instore     0.285223\n",
       "online      0.058384\n",
       "random      0.035301\n",
       "reach       0.029567\n",
       "event       0.012350"
      ]
     },
     "execution_count": 24,
     "metadata": {},
     "output_type": "execute_result"
    }
   ],
   "source": [
    "perm_imp_rfpimp.iloc[:,[0]]"
   ]
  },
  {
   "cell_type": "code",
   "execution_count": 25,
   "metadata": {
    "scrolled": false
   },
   "outputs": [
    {
     "data": {
      "text/plain": [
       "[<matplotlib.lines.Line2D at 0x7f8c53df83d0>]"
      ]
     },
     "execution_count": 25,
     "metadata": {},
     "output_type": "execute_result"
    },
    {
     "data": {
      "image/png": "[encoded data removed]",
      "text/plain": [
       "<Figure size 432x288 with 1 Axes>"
      ]
     },
     "metadata": {
      "needs_background": "light"
     },
     "output_type": "display_data"
    }
   ],
   "source": [
    "plt.plot(perm_imp_rfpimp)\n"
   ]
  },
  {
   "cell_type": "code",
   "execution_count": 26,
   "metadata": {
    "scrolled": true
   },
   "outputs": [
    {
     "data": {
      "image/png": "[encoded data removed]",
      "text/plain": [
       "<Figure size 432x288 with 1 Axes>"
      ]
     },
     "metadata": {
      "needs_background": "light"
     },
     "output_type": "display_data"
    }
   ],
   "source": [
    "# 变量的重要性程度值\n",
    "importance = rf.feature_importances_\n",
    "# 构建序列用于绘图\n",
    "Impt_Series = pd.Series(importance, index=X_train.columns)\n",
    "# 对序列排序绘图\n",
    "Impt_Series.sort_values(ascending=True, inplace=True)\n",
    "Impt_Series.plot(kind='barh')\n",
    "# 给条形图添加数据标注\n",
    "for y, x in enumerate(Impt_Series):\n",
    "    plt.text(x+0.005, y, \"%s\" %x)\n",
    "plt.show()"
   ]
  },
  {
   "cell_type": "markdown",
   "metadata": {},
   "source": [
    "得到结论：电视、人工和店内投入对门店销售额的影响最大。"
   ]
  },
  {
   "cell_type": "markdown",
   "metadata": {},
   "source": [
    "## 2. 使用另一个更加准确的方法\n",
    "这个方法不仅能判断出哪些变量更重要， 还能建议哪些变量可以被移除从而建立更加精确的模型"
   ]
  },
  {
   "cell_type": "code",
   "execution_count": 29,
   "metadata": {},
   "outputs": [],
   "source": [
    "from sklearn.base import clone\n",
    "\n",
    "def imp_df(column_names, importances):\n",
    "    data = {'Feature':column_names, 'Importance':importances}\n",
    "    df = pd.DataFrame(data).set_index('Feature').sort_values('Importance', ascending=False)\n",
    "    return df\n",
    "def drop_col_feat_imp(model, X_train, y_train, random_state=42):\n",
    "    model_clone = clone(model)\n",
    "    model_clone.random_state = random_state\n",
    "    model_clone.fit(X_train, y_train)\n",
    "    benchmark_score = model_clone.score(X_train, y_train)\n",
    "    importances = []\n",
    "    for col in X_train.columns:\n",
    "        model_clone = clone(model)\n",
    "        model_clone.random_state = random_state\n",
    "        model_clone.fit(X_train.drop(col, axis=1), y_train)\n",
    "        drop_col_score = model_clone.score(X_train.drop(col, axis=1), y_train)\n",
    "        importances.append(benchmark_score - drop_col_score)\n",
    "    importances_df = imp_df(X_train.columns, importances)\n",
    "    return importances_df"
   ]
  },
  {
   "cell_type": "code",
   "execution_count": 53,
   "metadata": {},
   "outputs": [
    {
     "data": {
      "text/html": [
       "<div>\n",
       "<style scoped>\n",
       "    .dataframe tbody tr th:only-of-type {\n",
       "        vertical-align: middle;\n",
       "    }\n",
       "\n",
       "    .dataframe tbody tr th {\n",
       "        vertical-align: top;\n",
       "    }\n",
       "\n",
       "    .dataframe thead th {\n",
       "        text-align: right;\n",
       "    }\n",
       "</style>\n",
       "<table border=\"1\" class=\"dataframe\">\n",
       "  <thead>\n",
       "    <tr style=\"text-align: right;\">\n",
       "      <th></th>\n",
       "      <th>Importance</th>\n",
       "    </tr>\n",
       "    <tr>\n",
       "      <th>Feature</th>\n",
       "      <th></th>\n",
       "    </tr>\n",
       "  </thead>\n",
       "  <tbody>\n",
       "    <tr>\n",
       "      <th>local_tv</th>\n",
       "      <td>0.050616</td>\n",
       "    </tr>\n",
       "    <tr>\n",
       "      <th>person</th>\n",
       "      <td>0.037559</td>\n",
       "    </tr>\n",
       "    <tr>\n",
       "      <th>instore</th>\n",
       "      <td>0.014802</td>\n",
       "    </tr>\n",
       "    <tr>\n",
       "      <th>reach</th>\n",
       "      <td>0.001608</td>\n",
       "    </tr>\n",
       "    <tr>\n",
       "      <th>online</th>\n",
       "      <td>0.001361</td>\n",
       "    </tr>\n",
       "    <tr>\n",
       "      <th>event</th>\n",
       "      <td>0.000265</td>\n",
       "    </tr>\n",
       "    <tr>\n",
       "      <th>random</th>\n",
       "      <td>-0.000301</td>\n",
       "    </tr>\n",
       "  </tbody>\n",
       "</table>\n",
       "</div>"
      ],
      "text/plain": [
       "          Importance\n",
       "Feature             \n",
       "local_tv    0.050616\n",
       "person      0.037559\n",
       "instore     0.014802\n",
       "reach       0.001608\n",
       "online      0.001361\n",
       "event       0.000265\n",
       "random     -0.000301"
      ]
     },
     "execution_count": 53,
     "metadata": {},
     "output_type": "execute_result"
    }
   ],
   "source": [
    "df2 = drop_col_feat_imp(rf, X_train, y_train, random_state=42)\n",
    "df2"
   ]
  },
  {
   "cell_type": "code",
   "execution_count": 52,
   "metadata": {
    "scrolled": true
   },
   "outputs": [
    {
     "data": {
      "image/png": "[encoded data removed]",
      "text/plain": [
       "<Figure size 432x288 with 1 Axes>"
      ]
     },
     "metadata": {
      "needs_background": "light"
     },
     "output_type": "display_data"
    }
   ],
   "source": [
    "plt.plot(df2)\n",
    "df2_Series = pd.Series(df2.Importance, index=X_train.columns).sort_values(ascending=False)\n",
    "df2_Series\n",
    "for x,y in enumerate(df2_Series):\n",
    "    plt.text(x, y, \"%.4F\" %y)\n",
    "plt.show()"
   ]
  },
  {
   "cell_type": "markdown",
   "metadata": {},
   "source": [
    "图中的负值表示这些变量会给模型的准确性带去负面影响， 所以应当被移除。 使用这个方法产出的结果与上一个方法相同， 所以当资源有限时， 应当优先投入在电视广告， 门店海报， 门店销售人员上， 因为这三个部分对销售额的提升影响最大。  "
   ]
  },
  {
   "cell_type": "markdown",
   "metadata": {},
   "source": [
    "# 反思\n",
    "1、数据需要标准化吗？  \n",
    "2、数据清洗：只简单的删除了空值行，是否有异常值\n"
   ]
  }
 ],
 "metadata": {
  "kernelspec": {
   "display_name": "Python 3",
   "language": "python",
   "name": "python3"
  },
  "language_info": {
   "codemirror_mode": {
    "name": "ipython",
    "version": 3
   },
   "file_extension": ".py",
   "mimetype": "text/x-python",
   "name": "python",
   "nbconvert_exporter": "python",
   "pygments_lexer": "ipython3",
   "version": "3.8.5"
  }
 },
 "nbformat": 4,
 "nbformat_minor": 4
}
